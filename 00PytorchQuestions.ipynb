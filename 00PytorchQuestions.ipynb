{
  "nbformat": 4,
  "nbformat_minor": 0,
  "metadata": {
    "colab": {
      "provenance": [],
      "authorship_tag": "ABX9TyOwAJPkz8L2SpLNXKKKl9b4",
      "include_colab_link": true
    },
    "kernelspec": {
      "name": "python3",
      "display_name": "Python 3"
    },
    "language_info": {
      "name": "python"
    }
  },
  "cells": [
    {
      "cell_type": "markdown",
      "metadata": {
        "id": "view-in-github",
        "colab_type": "text"
      },
      "source": [
        "<a href=\"https://colab.research.google.com/github/Duck7453/Autonomous-Project/blob/main/00PytorchQuestions.ipynb\" target=\"_parent\"><img src=\"https://colab.research.google.com/assets/colab-badge.svg\" alt=\"Open In Colab\"/></a>"
      ]
    },
    {
      "cell_type": "code",
      "execution_count": null,
      "metadata": {
        "colab": {
          "base_uri": "https://localhost:8080/"
        },
        "id": "9ROUlcqiaMG8",
        "outputId": "b1254f42-1f92-4bff-adf1-245fa13e8f78"
      },
      "outputs": [
        {
          "output_type": "execute_result",
          "data": {
            "text/plain": [
              "tensor([[0.6097, 0.7368, 0.0840, 0.7873, 0.1603, 0.0113, 0.0930],\n",
              "        [0.3348, 0.9493, 0.4715, 0.7334, 0.1334, 0.8062, 0.9170],\n",
              "        [0.0463, 0.0926, 0.5188, 0.9141, 0.8997, 0.0676, 0.4552],\n",
              "        [0.2983, 0.9309, 0.0028, 0.8744, 0.9479, 0.1641, 0.2358],\n",
              "        [0.2525, 0.3556, 0.1578, 0.5225, 0.2078, 0.9474, 0.8486],\n",
              "        [0.9981, 0.6930, 0.1294, 0.4862, 0.2305, 0.0882, 0.5776],\n",
              "        [0.3165, 0.9439, 0.0157, 0.4356, 0.6660, 0.2153, 0.9788]])"
            ]
          },
          "metadata": {},
          "execution_count": 2
        }
      ],
      "source": [
        "#2\n",
        "\n",
        "import torch\n",
        "random_tens = torch.rand(size = (7, 7))\n",
        "random_tens\n"
      ]
    },
    {
      "cell_type": "code",
      "source": [
        "#3\n",
        "other = torch.rand(size = (1,7))\n",
        "multiple = random_tens.mm(other.permute(1,0))\n",
        "multiple"
      ],
      "metadata": {
        "colab": {
          "base_uri": "https://localhost:8080/"
        },
        "id": "h1VlNSN3auth",
        "outputId": "9e5f4521-e8bb-4822-d0a5-263b2a76717b"
      },
      "execution_count": null,
      "outputs": [
        {
          "output_type": "execute_result",
          "data": {
            "text/plain": [
              "tensor([[1.1733],\n",
              "        [2.2014],\n",
              "        [1.4571],\n",
              "        [1.8088],\n",
              "        [1.7965],\n",
              "        [1.9492],\n",
              "        [2.1432]])"
            ]
          },
          "metadata": {},
          "execution_count": 4
        }
      ]
    },
    {
      "cell_type": "code",
      "source": [
        "#4\n",
        "torch.manual_seed(0)\n",
        "\n",
        "tensor1 = torch.rand(size=(7, 7))\n",
        "tensor2 = torch.rand(size=(7, 1))\n",
        "tensor3 = tensor1.mm(tensor2)\n",
        "tensor3"
      ],
      "metadata": {
        "colab": {
          "base_uri": "https://localhost:8080/"
        },
        "id": "jFHcrLoqb0e4",
        "outputId": "590374e6-3b7f-4b8f-ac8a-44ee5bfd1e88"
      },
      "execution_count": null,
      "outputs": [
        {
          "output_type": "execute_result",
          "data": {
            "text/plain": [
              "tensor([[1.8542],\n",
              "        [1.9611],\n",
              "        [2.2884],\n",
              "        [3.0481],\n",
              "        [1.7067],\n",
              "        [2.5290],\n",
              "        [1.7989]])"
            ]
          },
          "metadata": {},
          "execution_count": 22
        }
      ]
    },
    {
      "cell_type": "code",
      "source": [
        "#5\n",
        "\n",
        "torch.cuda.manual_seed(1234)"
      ],
      "metadata": {
        "id": "22kOQh-ffi-B"
      },
      "execution_count": null,
      "outputs": []
    },
    {
      "cell_type": "code",
      "source": [
        "#6\n",
        "\n",
        "torch.manual_seed(1234)\n",
        "\n",
        "device = \"cuda\" if torch.cuda.is_available() else \"cpu\"\n",
        "tensor1 = torch.rand(size = (4,4)).to(device)\n",
        "tensor2 = torch.rand(size = (4,4)).to(device)\n",
        "tensor1\n",
        "tensor2"
      ],
      "metadata": {
        "colab": {
          "base_uri": "https://localhost:8080/"
        },
        "id": "RWP0e29nf1HY",
        "outputId": "cf009896-20f0-4731-f7ff-b5ee8da947f3"
      },
      "execution_count": null,
      "outputs": [
        {
          "output_type": "execute_result",
          "data": {
            "text/plain": [
              "tensor([[0.2837, 0.6567, 0.2388, 0.7313],\n",
              "        [0.6012, 0.3043, 0.2548, 0.6294],\n",
              "        [0.9665, 0.7399, 0.4517, 0.4757],\n",
              "        [0.7842, 0.1525, 0.6662, 0.3343]])"
            ]
          },
          "metadata": {},
          "execution_count": 26
        }
      ]
    },
    {
      "cell_type": "code",
      "source": [
        "#7\n",
        "\n",
        "tensor3 = tensor1.mm(tensor2.permute(1, 0))\n",
        "tensor3"
      ],
      "metadata": {
        "colab": {
          "base_uri": "https://localhost:8080/"
        },
        "id": "JA1YR8o0iBFw",
        "outputId": "6a1d5d7d-2a35-4d66-b6d5-01a62463b703"
      },
      "execution_count": null,
      "outputs": [
        {
          "output_type": "execute_result",
          "data": {
            "text/plain": [
              "tensor([[0.6023, 0.4367, 0.6172, 0.3797],\n",
              "        [0.8314, 0.5561, 0.8209, 0.3436],\n",
              "        [1.0077, 1.0600, 1.5184, 1.2893],\n",
              "        [1.3241, 1.2158, 1.8067, 1.1468]])"
            ]
          },
          "metadata": {},
          "execution_count": 27
        }
      ]
    },
    {
      "cell_type": "code",
      "source": [
        "#8\n",
        "\n",
        "max = torch.max(tensor3)\n",
        "min = torch.min(tensor3)\n",
        "max, min"
      ],
      "metadata": {
        "colab": {
          "base_uri": "https://localhost:8080/"
        },
        "id": "6KJQD68liaFK",
        "outputId": "d19d6100-b1bf-4f1b-ac1a-b57f2b0cf26b"
      },
      "execution_count": null,
      "outputs": [
        {
          "output_type": "execute_result",
          "data": {
            "text/plain": [
              "(tensor(1.8067), tensor(0.3436))"
            ]
          },
          "metadata": {},
          "execution_count": 29
        }
      ]
    },
    {
      "cell_type": "code",
      "source": [
        "#9\n",
        "\n",
        "max = torch.argmax(tensor3)\n",
        "min = torch.argmin(tensor3)\n",
        "max, min"
      ],
      "metadata": {
        "colab": {
          "base_uri": "https://localhost:8080/"
        },
        "id": "oO9PCZO5izzu",
        "outputId": "401ed38d-1b42-4705-f9dc-a22e6c134e84"
      },
      "execution_count": null,
      "outputs": [
        {
          "output_type": "execute_result",
          "data": {
            "text/plain": [
              "(tensor(14), tensor(7))"
            ]
          },
          "metadata": {},
          "execution_count": 30
        }
      ]
    },
    {
      "cell_type": "code",
      "source": [
        "#10\n",
        "\n",
        "torch.manual_seed(7)\n",
        "tensor1 = torch.rand(size = (1, 1, 1, 10))\n",
        "tensor2 = tensor1.squeeze()\n",
        "tensor1, tensor2"
      ],
      "metadata": {
        "colab": {
          "base_uri": "https://localhost:8080/"
        },
        "id": "wA3ki1p9kwKp",
        "outputId": "84c1f433-8cad-4b36-ad7a-dca5521081db"
      },
      "execution_count": null,
      "outputs": [
        {
          "output_type": "execute_result",
          "data": {
            "text/plain": [
              "(tensor([[[[0.5349, 0.1988, 0.6592, 0.6569, 0.2328, 0.4251, 0.2071, 0.6297,\n",
              "            0.3653, 0.8513]]]]),\n",
              " tensor([0.5349, 0.1988, 0.6592, 0.6569, 0.2328, 0.4251, 0.2071, 0.6297, 0.3653,\n",
              "         0.8513]))"
            ]
          },
          "metadata": {},
          "execution_count": 33
        }
      ]
    }
  ]
}