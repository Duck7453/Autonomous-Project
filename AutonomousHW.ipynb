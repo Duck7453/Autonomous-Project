{
  "nbformat": 4,
  "nbformat_minor": 0,
  "metadata": {
    "colab": {
      "provenance": [],
      "authorship_tag": "ABX9TyMuO9bkHLfcxLF1Ac530Fq3",
      "include_colab_link": true
    },
    "kernelspec": {
      "name": "python3",
      "display_name": "Python 3"
    },
    "language_info": {
      "name": "python"
    }
  },
  "cells": [
    {
      "cell_type": "markdown",
      "metadata": {
        "id": "view-in-github",
        "colab_type": "text"
      },
      "source": [
        "<a href=\"https://colab.research.google.com/github/Duck7453/Autonomous-Project/blob/main/AutonomousHW.ipynb\" target=\"_parent\"><img src=\"https://colab.research.google.com/assets/colab-badge.svg\" alt=\"Open In Colab\"/></a>"
      ]
    },
    {
      "cell_type": "code",
      "execution_count": null,
      "metadata": {
        "colab": {
          "base_uri": "https://localhost:8080/"
        },
        "id": "uYe52B3TAN0f",
        "outputId": "3604fd44-2095-4e29-f866-87c7bf419681"
      },
      "outputs": [
        {
          "output_type": "stream",
          "name": "stdout",
          "text": [
            "Enter number 1: -1\n",
            "Enter number 2: -2\n",
            "Number 1 is bigger\n"
          ]
        }
      ],
      "source": [
        "# Nnueral Network to identitfy the bigger of the two inputted numbers\n",
        "\n",
        "import torch\n",
        "import torch.nn as nn\n",
        "import torch.optim as optim\n",
        "\n",
        "#1000 sets of 2\n",
        "first_num = torch.rand(1000, 2)\n",
        "second_num = torch.zeros((1000, 1))\n",
        "\n",
        "#assign second tensor with correct answers (1 for greater, 0 for not)\n",
        "for i in range(1000):\n",
        "    if first_num[i][0] > first_num[i][1]:\n",
        "        second_num[i] = 1\n",
        "    else:\n",
        "        second_num[i] = 0\n",
        "\n",
        "#make the linear model\n",
        "\n",
        "class NeuralNetwork(nn.Module):\n",
        "    def __init__(self):\n",
        "        super(NeuralNetwork, self).__init__()\n",
        "        self.linear = nn.Linear(2, 8)\n",
        "        #for non linearity\n",
        "        self.relu = nn.ReLU()\n",
        "        self.linear2 = nn.Linear(8, 1)\n",
        "        # get 0's and 1's\n",
        "        self.sigmoid = nn.Sigmoid()\n",
        "    def forward(self, x):\n",
        "        x = self.linear(x)\n",
        "        x = self.relu(x)\n",
        "        x = self.linear2(x)\n",
        "        x = self.sigmoid(x)\n",
        "        return x\n",
        "\n",
        "model = NeuralNetwork()\n",
        "\n",
        "criterion = nn.BCELoss()\n",
        "optimizer = optim.SGD(model.parameters(), lr=0.01)\n",
        "\n",
        "for i in range(2000):\n",
        "    optimizer.zero_grad()\n",
        "    #put the first tensor through the model every epoch\n",
        "    output = model(first_num)\n",
        "    losses = criterion(output, second_num)\n",
        "    losses.backward()\n",
        "    optimizer.step()\n",
        "\n",
        "#now ask user for inputs\n",
        "\n",
        "num1 = float(input(\"Enter number 1: \"))\n",
        "num2 = float(input(\"Enter number 2: \"))\n",
        "\n",
        "user_tensor = torch.tensor([[num1, num2]], dtype=torch.float32)\n",
        "\n",
        "prediction = model(user_tensor).item()\n",
        "\n",
        "if prediction > 0.5:\n",
        "    print(\"Number 1 is bigger\")\n",
        "else:\n",
        "    print(\"Number 2 is bigger\")\n"
      ]
    }
  ]
}